{
 "cells": [
  {
   "attachments": {},
   "cell_type": "markdown",
   "metadata": {},
   "source": [
    "# Workshop #3 // Valorant\n",
    "[![Valorant](https://media.discordapp.net/attachments/952632151533289513/1103931938055663687/acs2.png?width=2424&height=808)](https://github.com)"
   ]
  },
  {
   "attachments": {},
   "cell_type": "markdown",
   "metadata": {},
   "source": [
    "### 1. Qu'est-ce que l'ACS ? Comment le calculer ?\n",
    "\n",
    "Le calcul officiel de l'ACS (Average Combat Score) sur Valorant est disponible publiquement, est il est le suivant:\n",
    "+ **Dégâts**: +1 pt\n",
    "+ **Kill**: +150/130/110/90/70 pts (en fonction des ennemis encore vivants)\n",
    "+ **Multikill**: +50/kill\n",
    "+ **Assists non dommageable**: +25 (smoke, etc...)"
   ]
  },
  {
   "cell_type": "code",
   "execution_count": null,
   "metadata": {},
   "outputs": [
    {
     "ename": "",
     "evalue": "",
     "output_type": "error",
     "traceback": [
      "\u001b[1;31mRunning cells with '/opt/homebrew/bin/python3' requires the ipykernel package.\n",
      "\u001b[1;31mRun the following command to install 'ipykernel' into the Python environment. \n",
      "\u001b[1;31mCommand: '/opt/homebrew/bin/python3 -m pip install ipykernel -U --user --force-reinstall'"
     ]
    }
   ],
   "source": [
    "## TODO: Lire le JSON \"data.json\", et calculer l'ACS d'au moins un joueur."
   ]
  }
 ],
 "metadata": {
  "kernelspec": {
   "display_name": "Python 3",
   "language": "python",
   "name": "python3"
  },
  "language_info": {
   "codemirror_mode": {
    "name": "ipython",
    "version": 3
   },
   "file_extension": ".py",
   "mimetype": "text/x-python",
   "name": "python",
   "nbconvert_exporter": "python",
   "pygments_lexer": "ipython3",
   "version": "3.11.2"
  },
  "orig_nbformat": 4
 },
 "nbformat": 4,
 "nbformat_minor": 2
}
